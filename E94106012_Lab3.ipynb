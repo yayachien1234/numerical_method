{
 "cells": [
  {
   "cell_type": "code",
   "execution_count": 1,
   "id": "WYQCl_hvaz8F",
   "metadata": {
    "executionInfo": {
     "elapsed": 6,
     "status": "ok",
     "timestamp": 1678453099519,
     "user": {
      "displayName": "吳蕙瑜 HUI YU WU N96114467",
      "userId": "11903892810699653447"
     },
     "user_tz": -480
    },
    "id": "WYQCl_hvaz8F"
   },
   "outputs": [],
   "source": [
    "def least_squares_fit(x, y):\n",
    "    x_ave = np.mean(x)\n",
    "    y_ave = np.mean(y)                                         # np.mean() return mean value of given array\n",
    "    beta_1 = ((x-x_ave).dot(y-y_ave))/(x-x_ave).dot(x-x_ave)   # np.dot: inner product for 1D array; matrix multiplication for 2D array\n",
    "    beta_0 = y_ave-beta_1*x_ave\n",
    "    return beta_0, beta_1"
   ]
  },
  {
   "cell_type": "code",
   "execution_count": null,
   "id": "a0BhCt_Eaz8H",
   "metadata": {
    "id": "a0BhCt_Eaz8H",
    "outputId": "1ccb4f0b-b3a9-48a9-ebee-25e9bca52ec0"
   },
   "outputs": [
    {
     "name": "stdout",
     "output_type": "stream",
     "text": [
      "From home-made linear regression model\n",
      "beta0 = 6.5\n",
      "beta1 = 2.8\n"
     ]
    }
   ],
   "source": [
    "#report beta0 and beta1\n",
    "import numpy as np\n",
    "X = np.array([1, 2, 3, 4])\n",
    "Y = np.array([9, 13, 14, 18])\n",
    "beta0, beta1 = least_squares_fit(X, Y)\n",
    "print('From home-made linear regression model')\n",
    "print('beta0 =', beta0)\n",
    "print('beta1 =', beta1)"
   ]
  },
  {
   "cell_type": "code",
   "execution_count": null,
   "id": "zhMu09_xaz8I",
   "metadata": {
    "id": "zhMu09_xaz8I",
    "outputId": "7de8857e-5376-4691-f3e3-23dee0d35a0a"
   },
   "outputs": [
    {
     "data": {
      "image/png": "[encoded data removed]",
      "text/plain": [
       "<Figure size 432x288 with 1 Axes>"
      ]
     },
     "metadata": {
      "needs_background": "light"
     },
     "output_type": "display_data"
    }
   ],
   "source": [
    "#plot the fitting line\n",
    "import matplotlib.pyplot as plt\n",
    "plt.scatter(X, Y, c='b', marker='o', s=20);                    # c=marker color='blue', s=marker size=20 \n",
    "plt.plot(X, beta0+beta1*X, c='r', lw=3);                       # lw=linewidth=3"
   ]
  },
  {
   "cell_type": "code",
   "execution_count": null,
   "id": "EDQKmAiAaz8I",
   "metadata": {
    "id": "EDQKmAiAaz8I"
   },
   "outputs": [],
   "source": []
  }
 ],
 "metadata": {
  "colab": {
   "provenance": []
  },
  "kernelspec": {
   "display_name": "Python 3 (ipykernel)",
   "language": "python",
   "name": "python3"
  },
  "language_info": {
   "codemirror_mode": {
    "name": "ipython",
    "version": 3
   },
   "file_extension": ".py",
   "mimetype": "text/x-python",
   "name": "python",
   "nbconvert_exporter": "python",
   "pygments_lexer": "ipython3",
   "version": "3.9.16"
  }
 },
 "nbformat": 4,
 "nbformat_minor": 5
}
