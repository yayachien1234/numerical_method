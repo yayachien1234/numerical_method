{
 "cells": [
  {
   "cell_type": "markdown",
   "id": "1785d7e9-b7b3-4cb8-b067-240769999d6d",
   "metadata": {},
   "source": [
    "### import the module you need first"
   ]
  },
  {
   "cell_type": "code",
   "execution_count": 2,
   "id": "313fb391-79e9-4b50-88b6-8f48c9d46df0",
   "metadata": {},
   "outputs": [],
   "source": [
    "import numpy as np"
   ]
  },
  {
   "cell_type": "markdown",
   "id": "db73bf73-205d-4f1d-86c7-b4c6983b3caf",
   "metadata": {},
   "source": [
    "## step1. \n",
    "#### Construct a numpy array represent the equations.\n",
    "#### the coefficients,answers and augmented matrix of each equation need to be stored separately."
   ]
  },
  {
   "cell_type": "code",
   "execution_count": 2,
   "id": "ad87b898-ac34-489a-b03c-17bf873adc7a",
   "metadata": {
    "scrolled": false
   },
   "outputs": [
    {
     "data": {
      "text/plain": [
       "'\\nexample:\\n \\n5y-7z = 7        | 0 5 -7 7 |\\n4x-z = 8      -> | 4 0 -1 8 |\\nx-y+z = 9        | 1 -1 1 9 |\\n'"
      ]
     },
     "execution_count": 2,
     "metadata": {},
     "output_type": "execute_result"
    }
   ],
   "source": [
    "\"\"\"\n",
    "example:\n",
    " \n",
    "5y-7z = 7        | 0 5 -7 7 |\n",
    "4x-z = 8      -> | 4 0 -1 8 |\n",
    "x-y+z = 9        | 1 -1 1 9 |\n",
    "\"\"\""
   ]
  },
  {
   "cell_type": "code",
   "execution_count": 3,
   "id": "8b4010ef",
   "metadata": {
    "scrolled": true
   },
   "outputs": [
    {
     "name": "stdout",
     "output_type": "stream",
     "text": [
      "[[ 0.  5. -7.  7.]\n",
      " [ 4.  0. -1.  8.]\n",
      " [ 1. -1. -1.  9.]]\n"
     ]
    }
   ],
   "source": [
    "# 這邊我直接用np的功能建立矩陣，注意這邊我直接先加好小數點不然後面計算會有問題\n",
    "arr1 = np.array([[0.0, 5.0, -7.0, 7.0],[4.0, 0.0, -1.0, 8.0], [1.0, -1.0, -1.0, 9.0]])\n",
    "print(arr1)"
   ]
  },
  {
   "cell_type": "markdown",
   "id": "997cb39d-1f1c-4a0a-bb0a-337998aa9bee",
   "metadata": {},
   "source": [
    "## step2. \n",
    "### Before doing gauss elimination,\n",
    "### we need to check if the first element([0,0]) of the augmented matrix is zero or not.\n",
    "### If the first element is zero,\n",
    "### we need to find another row whose first element isn't zero,and change them."
   ]
  },
  {
   "cell_type": "code",
   "execution_count": 3,
   "id": "dd3f26c2-8e80-4fc7-9275-fdc3757f28a5",
   "metadata": {},
   "outputs": [
    {
     "name": "stdout",
     "output_type": "stream",
     "text": [
      "[[ 4.  0. -1.  8.]\n",
      " [ 0.  5. -7.  7.]\n",
      " [ 1. -1. -1.  9.]]\n"
     ]
    }
   ],
   "source": [
    "#如果矩陣最左上角的數字不為0，就先找一個第一個不為0的列交換位置，因為要整列交換位置所以用for-loop來操作\n",
    "if arr1[0][0]==0:\n",
    "    for i in range(4):\n",
    "        temp = arr1[0][i]\n",
    "        arr1[0][i] = arr1[1][i]\n",
    "        arr1[1][i] = np.round(temp, 2)\n",
    "print(arr1)"
   ]
  },
  {
   "cell_type": "code",
   "execution_count": 5,
   "id": "c17a6dd0-6de4-4ec7-98c7-6c8108fa2637",
   "metadata": {},
   "outputs": [],
   "source": [
    "#test:step2\n",
    "#print the new augment matrix"
   ]
  },
  {
   "cell_type": "markdown",
   "id": "779517a5-46f4-4d1c-9b12-31d7bdafe95c",
   "metadata": {},
   "source": [
    "## step3. gauss elimination\n",
    "\n",
    "#### print the matrix after  gauss elimination"
   ]
  },
  {
   "cell_type": "code",
   "execution_count": 6,
   "id": "494bc074-c8f1-442c-a893-4aeecaaea4b9",
   "metadata": {},
   "outputs": [
    {
     "name": "stdout",
     "output_type": "stream",
     "text": [
      "the augment matrix after gauss eliminatio:\n",
      "[[ 4.    0.   -1.    8.  ]\n",
      " [ 0.    5.   -7.    7.  ]\n",
      " [ 0.    0.   -2.15  8.4 ]]\n"
     ]
    }
   ],
   "source": [
    "# 為了操作高斯消去法，使用for-loop來操作RowScalar&RowAddition\n",
    "for i in range(4):\n",
    "    arr1[2][i] = arr1[2][i]+arr1[0][i]*(-0.25)\n",
    "\n",
    "\n",
    "for i in range(4):\n",
    "    arr1[2][i] = arr1[2][i]+arr1[1][i]*(0.2)\n",
    "print(\"the augment matrix after gauss eliminatio:\")\n",
    "print(arr1)\n",
    "        "
   ]
  },
  {
   "cell_type": "code",
   "execution_count": 7,
   "id": "b7b93b27-512b-460a-b3e8-243b1037a772",
   "metadata": {},
   "outputs": [],
   "source": [
    "#test:step3\n",
    "#print the augment matrix after gauss elimination"
   ]
  },
  {
   "cell_type": "markdown",
   "id": "ba7b24d1-c4de-4011-bb69-36e62982facd",
   "metadata": {},
   "source": [
    "## step4. LU decomposition(bonus)\n",
    "\n",
    "## if you don't want to submit bouns,you don't need to do  step4 and step5"
   ]
  },
  {
   "cell_type": "code",
   "execution_count": 5,
   "id": "bfd7787a-d232-4211-b394-9f3e453236cd",
   "metadata": {},
   "outputs": [
    {
     "name": "stdout",
     "output_type": "stream",
     "text": [
      "[[ 0.  5. -7.]\n",
      " [ 4.  0. -1.]\n",
      " [ 1. -1. -1.]]\n",
      "0.2\n",
      "L:\n",
      "[[ 1.    0.    0.  ]\n",
      " [ 0.    1.    0.  ]\n",
      " [ 0.25 -0.2   1.  ]]\n",
      "U:\n",
      "[[ 4.    0.   -1.  ]\n",
      " [ 0.    5.   -7.  ]\n",
      " [ 0.    0.   -2.15]]\n"
     ]
    }
   ],
   "source": [
    "# initiate U矩陣\n",
    "arr2 = np.array([[0.0, 5.0, -7.0],[4.0, 0.0, -1.0], [1.0, -1.0, -1.0]])\n",
    "print(arr2)\n",
    "# initiate L矩陣\n",
    "arr3 = np.array([[1.0, 0.0, 0.0], [0.0, 1.0, 0.0], [0.0, 0.0, 1.0]])\n",
    "if arr2[0][0]==0:\n",
    "    for i in range(3):\n",
    "        temp = arr2[0][i]\n",
    "        arr2[0][i] = arr2[1][i]\n",
    "        arr2[1][i] = np.round(temp, 2)\n",
    "# print(arr2)\n",
    "# 計算RowScalar&RowAddition要乘上去的數值，其同時也是L矩陣的值\n",
    "a1 = (-1)*arr2[2][0]/arr2[0][0]\n",
    "arr3[2][0] = (-1)*a1\n",
    "# print(a1)\n",
    "for i in range(3):\n",
    "    arr2[2][i] = arr2[2][i]+arr2[0][i]*a1\n",
    "\n",
    "a2 = (-1)*arr2[2][1]/arr2[1][1]\n",
    "print(a2)\n",
    "arr3[2][1] = (-1)*a2\n",
    "\n",
    "for i in range(3):\n",
    "    arr2[2][i] = arr2[2][i]+arr2[1][i]*(a2)\n",
    "    \n",
    "print(\"L:\")\n",
    "print(arr3)\n",
    "    \n",
    "print(\"U:\")\n",
    "print(arr2)\n",
    "        "
   ]
  },
  {
   "cell_type": "code",
   "execution_count": 9,
   "id": "6a08b2d3-ea8d-487b-b56d-6cccfc0e8283",
   "metadata": {},
   "outputs": [],
   "source": [
    "#print L and U"
   ]
  },
  {
   "cell_type": "markdown",
   "id": "d8296438-bc7c-4eb5-b53f-d688ef7b9101",
   "metadata": {},
   "source": [
    "## step5. check the ansewer of LU(bonus)\n",
    "\n",
    "please use the function in scipy.linalg to check your answer\n",
    "\n",
    "the documentatin of scipy.linalg :\n",
    "https://docs.scipy.org/doc/scipy/reference/linalg.html"
   ]
  },
  {
   "cell_type": "code",
   "execution_count": 6,
   "id": "f4ea710a-bab4-4071-a397-a6db0e8bb3b9",
   "metadata": {},
   "outputs": [
    {
     "name": "stdout",
     "output_type": "stream",
     "text": [
      "L:\n",
      "[[ 1.    0.    0.  ]\n",
      " [ 0.    1.    0.  ]\n",
      " [ 0.25 -0.2   1.  ]]\n",
      "U:\n",
      "[[ 4.    0.   -1.  ]\n",
      " [ 0.    5.   -7.  ]\n",
      " [ 0.    0.   -2.15]]\n"
     ]
    }
   ],
   "source": [
    "import scipy.linalg as la\n",
    "A = np.array([[0, 5, -7], [4, 0, -1], [1, -1, -1]])\n",
    "# 使用lu fuction可以Compute pivoted LU decomposition of a matrix.\n",
    "P, L, U = la.lu(A)\n",
    "print(\"L:\")\n",
    "print(L)\n",
    "print(\"U:\")\n",
    "print(U)"
   ]
  },
  {
   "cell_type": "code",
   "execution_count": null,
   "id": "ef801f0b",
   "metadata": {},
   "outputs": [],
   "source": []
  }
 ],
 "metadata": {
  "kernelspec": {
   "display_name": "Python 3 (ipykernel)",
   "language": "python",
   "name": "python3"
  },
  "language_info": {
   "codemirror_mode": {
    "name": "ipython",
    "version": 3
   },
   "file_extension": ".py",
   "mimetype": "text/x-python",
   "name": "python",
   "nbconvert_exporter": "python",
   "pygments_lexer": "ipython3",
   "version": "3.9.16"
  }
 },
 "nbformat": 4,
 "nbformat_minor": 5
}
